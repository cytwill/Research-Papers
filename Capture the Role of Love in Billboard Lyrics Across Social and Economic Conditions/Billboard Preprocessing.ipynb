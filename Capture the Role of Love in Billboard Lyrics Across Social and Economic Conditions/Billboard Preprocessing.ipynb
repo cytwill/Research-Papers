{
 "cells": [
  {
   "cell_type": "code",
   "execution_count": 1,
   "metadata": {},
   "outputs": [],
   "source": [
    "import lucem_illud_2020 #pip install -U git+git://github.com/Computational-Content-Analysis-2020/lucem_illud_2020.git\n",
    "\n",
    "#All these packages need to be installed from pip\n",
    "#For ML\n",
    "import sklearn\n",
    "\n",
    "import nltk #For tokenizing and normalizing\n",
    "import numpy as np #arrays\n",
    "import matplotlib.pyplot as plt #Plots\n",
    "import matplotlib.colors # For nice colours\n",
    "import seaborn as sns#Makes plots look nice, also heatmaps\n",
    "import scipy as sp #for interp\n",
    "\n",
    "#These are from the standard library\n",
    "import collections\n",
    "import os\n",
    "import os.path\n",
    "import random\n",
    "import re\n",
    "import glob\n",
    "import pandas as pd\n",
    "import requests\n",
    "import json\n",
    "import math\n",
    "\n",
    "from spellchecker import SpellChecker\n",
    "import ftfy\n",
    "import ast\n",
    "#This 'magic' command makes the plots work better\n",
    "#in the notebook, don't use it outside of a notebook.\n",
    "#Also you can ignore the warning\n",
    "%matplotlib inline"
   ]
  },
  {
   "cell_type": "code",
   "execution_count": 2,
   "metadata": {},
   "outputs": [
    {
     "data": {
      "text/html": [
       "<div>\n",
       "<style scoped>\n",
       "    .dataframe tbody tr th:only-of-type {\n",
       "        vertical-align: middle;\n",
       "    }\n",
       "\n",
       "    .dataframe tbody tr th {\n",
       "        vertical-align: top;\n",
       "    }\n",
       "\n",
       "    .dataframe thead th {\n",
       "        text-align: right;\n",
       "    }\n",
       "</style>\n",
       "<table border=\"1\" class=\"dataframe\">\n",
       "  <thead>\n",
       "    <tr style=\"text-align: right;\">\n",
       "      <th></th>\n",
       "      <th>Rank</th>\n",
       "      <th>Song</th>\n",
       "      <th>Artist</th>\n",
       "      <th>Year</th>\n",
       "      <th>Lyrics</th>\n",
       "      <th>Language</th>\n",
       "    </tr>\n",
       "  </thead>\n",
       "  <tbody>\n",
       "    <tr>\n",
       "      <th>0</th>\n",
       "      <td>1</td>\n",
       "      <td>wooly bully</td>\n",
       "      <td>sam the sham and the pharaohs</td>\n",
       "      <td>1965</td>\n",
       "      <td>uno dos one two tres quatro matty told hatty a...</td>\n",
       "      <td>1</td>\n",
       "    </tr>\n",
       "    <tr>\n",
       "      <th>1</th>\n",
       "      <td>2</td>\n",
       "      <td>i cant help myself sugar pie honey bunch</td>\n",
       "      <td>four tops</td>\n",
       "      <td>1965</td>\n",
       "      <td>sugar pie honey bunch you know that i love you...</td>\n",
       "      <td>1</td>\n",
       "    </tr>\n",
       "    <tr>\n",
       "      <th>2</th>\n",
       "      <td>3</td>\n",
       "      <td>i cant get no satisfaction</td>\n",
       "      <td>the rolling stones</td>\n",
       "      <td>1965</td>\n",
       "      <td>i can't get no satisfaction i can't get me no ...</td>\n",
       "      <td>1</td>\n",
       "    </tr>\n",
       "    <tr>\n",
       "      <th>3</th>\n",
       "      <td>4</td>\n",
       "      <td>you were on my mind</td>\n",
       "      <td>we five</td>\n",
       "      <td>1965</td>\n",
       "      <td>when i woke up this morning you were on my min...</td>\n",
       "      <td>1</td>\n",
       "    </tr>\n",
       "    <tr>\n",
       "      <th>4</th>\n",
       "      <td>5</td>\n",
       "      <td>youve lost that lovin feelin</td>\n",
       "      <td>the righteous brothers</td>\n",
       "      <td>1965</td>\n",
       "      <td>you never close your eyes anymore when i kiss ...</td>\n",
       "      <td>1</td>\n",
       "    </tr>\n",
       "  </tbody>\n",
       "</table>\n",
       "</div>"
      ],
      "text/plain": [
       "   Rank                                      Song  \\\n",
       "0     1                               wooly bully   \n",
       "1     2  i cant help myself sugar pie honey bunch   \n",
       "2     3                i cant get no satisfaction   \n",
       "3     4                       you were on my mind   \n",
       "4     5              youve lost that lovin feelin   \n",
       "\n",
       "                          Artist  Year  \\\n",
       "0  sam the sham and the pharaohs  1965   \n",
       "1                      four tops  1965   \n",
       "2             the rolling stones  1965   \n",
       "3                        we five  1965   \n",
       "4         the righteous brothers  1965   \n",
       "\n",
       "                                              Lyrics  Language  \n",
       "0  uno dos one two tres quatro matty told hatty a...         1  \n",
       "1  sugar pie honey bunch you know that i love you...         1  \n",
       "2  i can't get no satisfaction i can't get me no ...         1  \n",
       "3  when i woke up this morning you were on my min...         1  \n",
       "4  you never close your eyes anymore when i kiss ...         1  "
      ]
     },
     "execution_count": 2,
     "metadata": {},
     "output_type": "execute_result"
    }
   ],
   "source": [
    "billboard_df = pd.read_csv('cleaned_billboard.csv')\n",
    "billboard_df[:5]"
   ]
  },
  {
   "cell_type": "code",
   "execution_count": 3,
   "metadata": {},
   "outputs": [],
   "source": [
    "billboard_df = billboard_df.dropna()"
   ]
  },
  {
   "cell_type": "code",
   "execution_count": 4,
   "metadata": {},
   "outputs": [
    {
     "data": {
      "text/plain": [
       "5068"
      ]
     },
     "execution_count": 4,
     "metadata": {},
     "output_type": "execute_result"
    }
   ],
   "source": [
    "len(billboard_df)"
   ]
  },
  {
   "cell_type": "code",
   "execution_count": 5,
   "metadata": {},
   "outputs": [
    {
     "data": {
      "text/plain": [
       "5068"
      ]
     },
     "execution_count": 5,
     "metadata": {},
     "output_type": "execute_result"
    }
   ],
   "source": [
    "billboard_df = billboard_df.drop_duplicates()\n",
    "len(billboard_df)"
   ]
  },
  {
   "cell_type": "code",
   "execution_count": 6,
   "metadata": {},
   "outputs": [],
   "source": [
    "billboard_df = billboard_df.reset_index(drop=True)"
   ]
  },
  {
   "cell_type": "code",
   "execution_count": 26,
   "metadata": {},
   "outputs": [],
   "source": [
    "# lyrics cleaning\n",
    "import string\n",
    "import re\n",
    "import spacy\n",
    "import ftfy\n",
    "import pkg_resources\n",
    "from symspellpy import SymSpell, Verbosity\n",
    "\n",
    "sym_spell = SymSpell(max_dictionary_edit_distance=2, prefix_length=7)\n",
    "bigram_path = pkg_resources.resource_filename(\n",
    "    \"symspellpy\", \"frequency_bigramdictionary_en_243_342.txt\")\n",
    "# term_index is the column of the term and count_index is the\n",
    "# column of the term frequency\n",
    "sym_spell.load_dictionary('integrated_uni_dict.txt', term_index=0, count_index=1, separator=',')\n",
    "sym_spell.load_bigram_dictionary(bigram_path, term_index=0, count_index=2)\n",
    "\n",
    "mark_words = ['pre-hook','post-hook','pre-chorus','post-chorus','bridge','outro','verse [0-9]',\n",
    "              '(repeat(ed)* )*intro( repeat(ed)*)*', '(repeat(ed)* )*verse( repeat(ed)*)*',\n",
    "              '(repeat(ed)* )*chorus( repeat(ed)*)*', '(repeat(ed)* )*hook( repeat(ed)*)*',\n",
    "              'interlude','instrumental( break )*','x[0-9]+','[0-9]+x','repeat ((to end)|(to faded*))', \n",
    "              r\"[#&$%\\*\\+@~=\\^_\\|`\\(\\)\\[\\]]\"\n",
    "              ]\n",
    "\n",
    "neg_words = ['( doesn)t ','( didn)t ','( haven)t ','( hadn)t ','( isn)t ','( aren)t ','( weren)t ','( don)t ','( wasn)t ','( can)t ']\n",
    "\n",
    "def clean_garbled(s):\n",
    "    no_garb = ftfy.fix_text(s)\n",
    "    no_uni = ''.join([w if ord(w) < 128 else '' for w in no_garb]).lower()\n",
    "    return no_uni\n",
    "\n",
    "def hyphen_modify(s):\n",
    "    return s.replace('-','')\n",
    "\n",
    "def repeat_modify(s):\n",
    "    # replace single repeat letters\n",
    "    single_modified = re.sub(r'(\\w|\\!|\\?)\\1\\1+',r'\\1',s)\n",
    "    # replace double and trible repeat units\n",
    "    double_modified = re.sub(r'(\\w\\w)\\1\\1+',r'\\1 \\1 \\1',single_modified)\n",
    "    trible_modified = re.sub(r'(\\w\\w\\w)\\1\\1+',r'\\1 \\1 \\1',double_modified)\n",
    "    return trible_modified\n",
    "\n",
    "def correction(s):\n",
    "    suggestions = sym_spell.lookup_compound(s, max_edit_distance=2)\n",
    "    return suggestions[0].term\n",
    "\n",
    "def remove_marks(s):\n",
    "    command = '|'.join(['('+ w + ')' for w in mark_words])\n",
    "    regex = re.compile(command)\n",
    "    no_marks = re.sub(regex, '', s)\n",
    "    return re.sub(' +', ' ', no_marks)\n",
    "\n",
    "def negation_return(s):\n",
    "    temp = s\n",
    "    for w in neg_words:\n",
    "        temp = re.sub(w, \"\\g<1>'t \", temp)\n",
    "    return temp\n",
    "\n",
    "def lyrics_clean(s):\n",
    "    no_uni = clean_garbled(s)\n",
    "    no_hyphen = hyphen_modify(no_uni)\n",
    "    no_repeat = repeat_modify(no_hyphen)\n",
    "    corrected = correction(no_repeat)\n",
    "    no_marks = remove_marks(corrected)\n",
    "    negated = negation_return(no_marks)    \n",
    "    return negated"
   ]
  },
  {
   "cell_type": "code",
   "execution_count": 9,
   "metadata": {},
   "outputs": [],
   "source": [
    "from multiprocessing import Pool\n",
    "#cleaned result\n",
    "p = Pool()\n",
    "result = list(p.map(lyrics_clean,billboard_df['Lyrics'])) "
   ]
  },
  {
   "cell_type": "code",
   "execution_count": 10,
   "metadata": {},
   "outputs": [],
   "source": [
    "billboard_df['Lyrics'] = result"
   ]
  },
  {
   "cell_type": "code",
   "execution_count": 56,
   "metadata": {},
   "outputs": [],
   "source": [
    "billboard_df = billboard_df.loc[billboard_df['Lyrics']!='']"
   ]
  },
  {
   "cell_type": "code",
   "execution_count": 11,
   "metadata": {},
   "outputs": [],
   "source": [
    "billboard_df = billboard_df.reset_index(drop=True)"
   ]
  },
  {
   "cell_type": "code",
   "execution_count": 12,
   "metadata": {},
   "outputs": [
    {
     "data": {
      "text/plain": [
       "5068"
      ]
     },
     "execution_count": 12,
     "metadata": {},
     "output_type": "execute_result"
    }
   ],
   "source": [
    "len(billboard_df)"
   ]
  },
  {
   "cell_type": "code",
   "execution_count": 12,
   "metadata": {},
   "outputs": [],
   "source": [
    "# language detection\n",
    "from langdetect import detect, detect_langs, DetectorFactory\n",
    "p = Pool()\n",
    "DetectorFactory.seed = 0"
   ]
  },
  {
   "cell_type": "code",
   "execution_count": 24,
   "metadata": {},
   "outputs": [
    {
     "name": "stdout",
     "output_type": "stream",
     "text": [
      "done 0\n",
      "done 1\n",
      "done 2\n",
      "done 3\n",
      "done 4\n",
      "done 5\n",
      "done 6\n",
      "done 7\n",
      "done 8\n",
      "done 9\n"
     ]
    }
   ],
   "source": [
    "final = set()\n",
    "for i in range(10):\n",
    "    result = p.map(detect, billboard_df['Lyrics'])\n",
    "    if len(final) != 0:\n",
    "        final &= set(enumerate(result))\n",
    "    else:\n",
    "        final = set(enumerate(result))\n",
    "    print('done',i)"
   ]
  },
  {
   "cell_type": "code",
   "execution_count": 25,
   "metadata": {},
   "outputs": [],
   "source": [
    "final_list = [x[0] for x in final]"
   ]
  },
  {
   "cell_type": "code",
   "execution_count": 31,
   "metadata": {},
   "outputs": [
    {
     "data": {
      "text/plain": [
       "5049"
      ]
     },
     "execution_count": 31,
     "metadata": {},
     "output_type": "execute_result"
    }
   ],
   "source": [
    "len(final_list)"
   ]
  },
  {
   "cell_type": "code",
   "execution_count": 32,
   "metadata": {},
   "outputs": [],
   "source": [
    "en_list = [x[0] for x in final if x[1]=='en']"
   ]
  },
  {
   "cell_type": "code",
   "execution_count": 33,
   "metadata": {},
   "outputs": [
    {
     "data": {
      "text/plain": [
       "5031"
      ]
     },
     "execution_count": 33,
     "metadata": {},
     "output_type": "execute_result"
    }
   ],
   "source": [
    "len(en_list)"
   ]
  },
  {
   "cell_type": "code",
   "execution_count": 37,
   "metadata": {},
   "outputs": [],
   "source": [
    "billboard_df = billboard_df.drop(columns='language')"
   ]
  },
  {
   "cell_type": "code",
   "execution_count": 39,
   "metadata": {},
   "outputs": [],
   "source": [
    "billboard_df['Language']=0\n",
    "billboard_df.loc[en_list,'Language']=1"
   ]
  },
  {
   "cell_type": "code",
   "execution_count": 41,
   "metadata": {
    "collapsed": true,
    "jupyter": {
     "outputs_hidden": true
    }
   },
   "outputs": [
    {
     "data": {
      "text/html": [
       "<div>\n",
       "<style scoped>\n",
       "    .dataframe tbody tr th:only-of-type {\n",
       "        vertical-align: middle;\n",
       "    }\n",
       "\n",
       "    .dataframe tbody tr th {\n",
       "        vertical-align: top;\n",
       "    }\n",
       "\n",
       "    .dataframe thead th {\n",
       "        text-align: right;\n",
       "    }\n",
       "</style>\n",
       "<table border=\"1\" class=\"dataframe\">\n",
       "  <thead>\n",
       "    <tr style=\"text-align: right;\">\n",
       "      <th></th>\n",
       "      <th>Rank</th>\n",
       "      <th>Song</th>\n",
       "      <th>Artist</th>\n",
       "      <th>Year</th>\n",
       "      <th>Lyrics</th>\n",
       "      <th>Language</th>\n",
       "    </tr>\n",
       "  </thead>\n",
       "  <tbody>\n",
       "    <tr>\n",
       "      <th>0</th>\n",
       "      <td>1</td>\n",
       "      <td>wooly bully</td>\n",
       "      <td>sam the sham and the pharaohs</td>\n",
       "      <td>1965</td>\n",
       "      <td>uno dos one two tres quatro matty told hatty a...</td>\n",
       "      <td>1</td>\n",
       "    </tr>\n",
       "    <tr>\n",
       "      <th>1</th>\n",
       "      <td>2</td>\n",
       "      <td>i cant help myself sugar pie honey bunch</td>\n",
       "      <td>four tops</td>\n",
       "      <td>1965</td>\n",
       "      <td>sugar pie honey bunch you know that i love you...</td>\n",
       "      <td>1</td>\n",
       "    </tr>\n",
       "    <tr>\n",
       "      <th>2</th>\n",
       "      <td>3</td>\n",
       "      <td>i cant get no satisfaction</td>\n",
       "      <td>the rolling stones</td>\n",
       "      <td>1965</td>\n",
       "      <td>i can't get no satisfaction i can't get me no ...</td>\n",
       "      <td>1</td>\n",
       "    </tr>\n",
       "    <tr>\n",
       "      <th>3</th>\n",
       "      <td>4</td>\n",
       "      <td>you were on my mind</td>\n",
       "      <td>we five</td>\n",
       "      <td>1965</td>\n",
       "      <td>when i woke up this morning you were on my min...</td>\n",
       "      <td>1</td>\n",
       "    </tr>\n",
       "    <tr>\n",
       "      <th>4</th>\n",
       "      <td>5</td>\n",
       "      <td>youve lost that lovin feelin</td>\n",
       "      <td>the righteous brothers</td>\n",
       "      <td>1965</td>\n",
       "      <td>you never close your eyes anymore when i kiss ...</td>\n",
       "      <td>1</td>\n",
       "    </tr>\n",
       "    <tr>\n",
       "      <th>...</th>\n",
       "      <td>...</td>\n",
       "      <td>...</td>\n",
       "      <td>...</td>\n",
       "      <td>...</td>\n",
       "      <td>...</td>\n",
       "      <td>...</td>\n",
       "    </tr>\n",
       "    <tr>\n",
       "      <th>5063</th>\n",
       "      <td>96</td>\n",
       "      <td>el perdon</td>\n",
       "      <td>nicky jam and enrique iglesias</td>\n",
       "      <td>2015</td>\n",
       "      <td>dime si es ver dad me dijon que te estes casa ...</td>\n",
       "      <td>0</td>\n",
       "    </tr>\n",
       "    <tr>\n",
       "      <th>5064</th>\n",
       "      <td>97</td>\n",
       "      <td>she knows</td>\n",
       "      <td>neyo featuring juicy j</td>\n",
       "      <td>2015</td>\n",
       "      <td>yeah uhuh your boy juicy j she bad yeah in cas...</td>\n",
       "      <td>1</td>\n",
       "    </tr>\n",
       "    <tr>\n",
       "      <th>5065</th>\n",
       "      <td>98</td>\n",
       "      <td>night changes</td>\n",
       "      <td>one direction</td>\n",
       "      <td>2015</td>\n",
       "      <td>going out tonight changes into something red h...</td>\n",
       "      <td>1</td>\n",
       "    </tr>\n",
       "    <tr>\n",
       "      <th>5066</th>\n",
       "      <td>99</td>\n",
       "      <td>back to back</td>\n",
       "      <td>drake</td>\n",
       "      <td>2015</td>\n",
       "      <td>oh man oh man oh man not again yeah i learned ...</td>\n",
       "      <td>1</td>\n",
       "    </tr>\n",
       "    <tr>\n",
       "      <th>5067</th>\n",
       "      <td>100</td>\n",
       "      <td>how deep is your love</td>\n",
       "      <td>calvin harris and disciples</td>\n",
       "      <td>2015</td>\n",
       "      <td>i want you to breathe me in let me be your air...</td>\n",
       "      <td>1</td>\n",
       "    </tr>\n",
       "  </tbody>\n",
       "</table>\n",
       "<p>5068 rows × 6 columns</p>\n",
       "</div>"
      ],
      "text/plain": [
       "      Rank                                      Song  \\\n",
       "0        1                               wooly bully   \n",
       "1        2  i cant help myself sugar pie honey bunch   \n",
       "2        3                i cant get no satisfaction   \n",
       "3        4                       you were on my mind   \n",
       "4        5              youve lost that lovin feelin   \n",
       "...    ...                                       ...   \n",
       "5063    96                                 el perdon   \n",
       "5064    97                                 she knows   \n",
       "5065    98                             night changes   \n",
       "5066    99                              back to back   \n",
       "5067   100                     how deep is your love   \n",
       "\n",
       "                              Artist  Year  \\\n",
       "0      sam the sham and the pharaohs  1965   \n",
       "1                          four tops  1965   \n",
       "2                 the rolling stones  1965   \n",
       "3                            we five  1965   \n",
       "4             the righteous brothers  1965   \n",
       "...                              ...   ...   \n",
       "5063  nicky jam and enrique iglesias  2015   \n",
       "5064          neyo featuring juicy j  2015   \n",
       "5065                   one direction  2015   \n",
       "5066                           drake  2015   \n",
       "5067     calvin harris and disciples  2015   \n",
       "\n",
       "                                                 Lyrics  Language  \n",
       "0     uno dos one two tres quatro matty told hatty a...         1  \n",
       "1     sugar pie honey bunch you know that i love you...         1  \n",
       "2     i can't get no satisfaction i can't get me no ...         1  \n",
       "3     when i woke up this morning you were on my min...         1  \n",
       "4     you never close your eyes anymore when i kiss ...         1  \n",
       "...                                                 ...       ...  \n",
       "5063  dime si es ver dad me dijon que te estes casa ...         0  \n",
       "5064  yeah uhuh your boy juicy j she bad yeah in cas...         1  \n",
       "5065  going out tonight changes into something red h...         1  \n",
       "5066  oh man oh man oh man not again yeah i learned ...         1  \n",
       "5067  i want you to breathe me in let me be your air...         1  \n",
       "\n",
       "[5068 rows x 6 columns]"
      ]
     },
     "execution_count": 41,
     "metadata": {},
     "output_type": "execute_result"
    }
   ],
   "source": [
    "billboard_df"
   ]
  },
  {
   "cell_type": "code",
   "execution_count": 8,
   "metadata": {},
   "outputs": [],
   "source": [
    "from multiprocessing import Pool\n",
    "# tokenization\n",
    "p = Pool()\n",
    "billboard_df['Tokens'] = p.map(lucem_illud_2020.word_tokenize,billboard_df['Lyrics']) "
   ]
  },
  {
   "cell_type": "code",
   "execution_count": 9,
   "metadata": {
    "scrolled": true
   },
   "outputs": [
    {
     "data": {
      "text/plain": [
       "['0',\n",
       " '1',\n",
       " '2',\n",
       " '3',\n",
       " '4',\n",
       " '5',\n",
       " '6',\n",
       " '7',\n",
       " '8',\n",
       " '9',\n",
       " 'b',\n",
       " 'c',\n",
       " 'd',\n",
       " 'e',\n",
       " 'f',\n",
       " 'g',\n",
       " 'h',\n",
       " 'j',\n",
       " 'k',\n",
       " 'l',\n",
       " 'm',\n",
       " 'n',\n",
       " 'p',\n",
       " 'q',\n",
       " 'r',\n",
       " 's',\n",
       " 't',\n",
       " 'v',\n",
       " 'w',\n",
       " 'x',\n",
       " 'y',\n",
       " 'z',\n",
       " '-pron-']"
      ]
     },
     "execution_count": 9,
     "metadata": {},
     "output_type": "execute_result"
    }
   ],
   "source": [
    "import string\n",
    "my_stop_words = [str(i) for i in range(10)] \\\n",
    "     + [x for x in string.ascii_lowercase if x not in ['a','u','o','i']] + ['-pron-']\n",
    "my_stop_words"
   ]
  },
  {
   "cell_type": "code",
   "execution_count": 10,
   "metadata": {},
   "outputs": [],
   "source": [
    "# normalization\n",
    "billboard_df['Normalized'] = p.starmap(lucem_illud_2020.normalizeTokens,\n",
    "                                       [(x,my_stop_words) for x in billboard_df['Tokens']])"
   ]
  },
  {
   "cell_type": "code",
   "execution_count": 11,
   "metadata": {},
   "outputs": [],
   "source": [
    "# re-normalization for '-PRON-'\n",
    "billboard_df['Normalized'] = p.starmap(lucem_illud_2020.normalizeTokens,\n",
    "                                       [(x,my_stop_words) for x in billboard_df['Normalized']])"
   ]
  },
  {
   "cell_type": "code",
   "execution_count": 12,
   "metadata": {},
   "outputs": [
    {
     "data": {
      "text/html": [
       "<div>\n",
       "<style scoped>\n",
       "    .dataframe tbody tr th:only-of-type {\n",
       "        vertical-align: middle;\n",
       "    }\n",
       "\n",
       "    .dataframe tbody tr th {\n",
       "        vertical-align: top;\n",
       "    }\n",
       "\n",
       "    .dataframe thead th {\n",
       "        text-align: right;\n",
       "    }\n",
       "</style>\n",
       "<table border=\"1\" class=\"dataframe\">\n",
       "  <thead>\n",
       "    <tr style=\"text-align: right;\">\n",
       "      <th></th>\n",
       "      <th>Rank</th>\n",
       "      <th>Song</th>\n",
       "      <th>Artist</th>\n",
       "      <th>Year</th>\n",
       "      <th>Lyrics</th>\n",
       "      <th>Language</th>\n",
       "      <th>Tokens</th>\n",
       "      <th>Normalized</th>\n",
       "    </tr>\n",
       "  </thead>\n",
       "  <tbody>\n",
       "    <tr>\n",
       "      <th>0</th>\n",
       "      <td>1</td>\n",
       "      <td>wooly bully</td>\n",
       "      <td>sam the sham and the pharaohs</td>\n",
       "      <td>1965</td>\n",
       "      <td>uno dos one two tres quatro matty told hatty a...</td>\n",
       "      <td>1</td>\n",
       "      <td>[uno, dos, one, two, tres, quatro, matty, told...</td>\n",
       "      <td>[uno, dos, tres, quatro, matty, tell, hatty, t...</td>\n",
       "    </tr>\n",
       "    <tr>\n",
       "      <th>1</th>\n",
       "      <td>2</td>\n",
       "      <td>i cant help myself sugar pie honey bunch</td>\n",
       "      <td>four tops</td>\n",
       "      <td>1965</td>\n",
       "      <td>sugar pie honey bunch you know that i love you...</td>\n",
       "      <td>1</td>\n",
       "      <td>[sugar, pie, honey, bunch, you, know, that, i,...</td>\n",
       "      <td>[sugar, pie, honey, bunch, know, love, help, l...</td>\n",
       "    </tr>\n",
       "    <tr>\n",
       "      <th>2</th>\n",
       "      <td>3</td>\n",
       "      <td>i cant get no satisfaction</td>\n",
       "      <td>the rolling stones</td>\n",
       "      <td>1965</td>\n",
       "      <td>i can't get no satisfaction i can't get me no ...</td>\n",
       "      <td>1</td>\n",
       "      <td>[i, ca, n't, get, no, satisfaction, i, ca, n't...</td>\n",
       "      <td>[satisfaction, satisfaction, try, try, try, tr...</td>\n",
       "    </tr>\n",
       "    <tr>\n",
       "      <th>3</th>\n",
       "      <td>4</td>\n",
       "      <td>you were on my mind</td>\n",
       "      <td>we five</td>\n",
       "      <td>1965</td>\n",
       "      <td>when i woke up this morning you were on my min...</td>\n",
       "      <td>1</td>\n",
       "      <td>[when, i, woke, up, this, morning, you, were, ...</td>\n",
       "      <td>[wake, morning, mind, mind, trouble, whoa, oh,...</td>\n",
       "    </tr>\n",
       "    <tr>\n",
       "      <th>4</th>\n",
       "      <td>5</td>\n",
       "      <td>youve lost that lovin feelin</td>\n",
       "      <td>the righteous brothers</td>\n",
       "      <td>1965</td>\n",
       "      <td>you never close your eyes anymore when i kiss ...</td>\n",
       "      <td>1</td>\n",
       "      <td>[you, never, close, your, eyes, anymore, when,...</td>\n",
       "      <td>[close, eye, anymore, kiss, lip, tenderness, l...</td>\n",
       "    </tr>\n",
       "    <tr>\n",
       "      <th>...</th>\n",
       "      <td>...</td>\n",
       "      <td>...</td>\n",
       "      <td>...</td>\n",
       "      <td>...</td>\n",
       "      <td>...</td>\n",
       "      <td>...</td>\n",
       "      <td>...</td>\n",
       "      <td>...</td>\n",
       "    </tr>\n",
       "    <tr>\n",
       "      <th>5063</th>\n",
       "      <td>96</td>\n",
       "      <td>el perdon</td>\n",
       "      <td>nicky jam and enrique iglesias</td>\n",
       "      <td>2015</td>\n",
       "      <td>dime si es ver dad me dijon que te estes casa ...</td>\n",
       "      <td>0</td>\n",
       "      <td>[dime, si, es, ver, dad, me, dijon, que, te, e...</td>\n",
       "      <td>[dime, si, es, ver, dad, dijon, que, te, estes...</td>\n",
       "    </tr>\n",
       "    <tr>\n",
       "      <th>5064</th>\n",
       "      <td>97</td>\n",
       "      <td>she knows</td>\n",
       "      <td>neyo featuring juicy j</td>\n",
       "      <td>2015</td>\n",
       "      <td>yeah uhuh your boy juicy j she bad yeah in cas...</td>\n",
       "      <td>1</td>\n",
       "      <td>[yeah, uhuh, your, boy, juicy, j, she, bad, ye...</td>\n",
       "      <td>[yes, uhuh, boy, juicy, bad, yes, case, know, ...</td>\n",
       "    </tr>\n",
       "    <tr>\n",
       "      <th>5065</th>\n",
       "      <td>98</td>\n",
       "      <td>night changes</td>\n",
       "      <td>one direction</td>\n",
       "      <td>2015</td>\n",
       "      <td>going out tonight changes into something red h...</td>\n",
       "      <td>1</td>\n",
       "      <td>[going, out, tonight, changes, into, something...</td>\n",
       "      <td>[tonight, change, red, mother, like, kind, dre...</td>\n",
       "    </tr>\n",
       "    <tr>\n",
       "      <th>5066</th>\n",
       "      <td>99</td>\n",
       "      <td>back to back</td>\n",
       "      <td>drake</td>\n",
       "      <td>2015</td>\n",
       "      <td>oh man oh man oh man not again yeah i learned ...</td>\n",
       "      <td>1</td>\n",
       "      <td>[oh, man, oh, man, oh, man, not, again, yeah, ...</td>\n",
       "      <td>[oh, man, oh, man, oh, man, yes, learn, game, ...</td>\n",
       "    </tr>\n",
       "    <tr>\n",
       "      <th>5067</th>\n",
       "      <td>100</td>\n",
       "      <td>how deep is your love</td>\n",
       "      <td>calvin harris and disciples</td>\n",
       "      <td>2015</td>\n",
       "      <td>i want you to breathe me in let me be your air...</td>\n",
       "      <td>1</td>\n",
       "      <td>[i, want, you, to, breathe, me, in, let, me, b...</td>\n",
       "      <td>[want, breathe, let, air, let, roam, body, fre...</td>\n",
       "    </tr>\n",
       "  </tbody>\n",
       "</table>\n",
       "<p>5068 rows × 8 columns</p>\n",
       "</div>"
      ],
      "text/plain": [
       "      Rank                                      Song  \\\n",
       "0        1                               wooly bully   \n",
       "1        2  i cant help myself sugar pie honey bunch   \n",
       "2        3                i cant get no satisfaction   \n",
       "3        4                       you were on my mind   \n",
       "4        5              youve lost that lovin feelin   \n",
       "...    ...                                       ...   \n",
       "5063    96                                 el perdon   \n",
       "5064    97                                 she knows   \n",
       "5065    98                             night changes   \n",
       "5066    99                              back to back   \n",
       "5067   100                     how deep is your love   \n",
       "\n",
       "                              Artist  Year  \\\n",
       "0      sam the sham and the pharaohs  1965   \n",
       "1                          four tops  1965   \n",
       "2                 the rolling stones  1965   \n",
       "3                            we five  1965   \n",
       "4             the righteous brothers  1965   \n",
       "...                              ...   ...   \n",
       "5063  nicky jam and enrique iglesias  2015   \n",
       "5064          neyo featuring juicy j  2015   \n",
       "5065                   one direction  2015   \n",
       "5066                           drake  2015   \n",
       "5067     calvin harris and disciples  2015   \n",
       "\n",
       "                                                 Lyrics  Language  \\\n",
       "0     uno dos one two tres quatro matty told hatty a...         1   \n",
       "1     sugar pie honey bunch you know that i love you...         1   \n",
       "2     i can't get no satisfaction i can't get me no ...         1   \n",
       "3     when i woke up this morning you were on my min...         1   \n",
       "4     you never close your eyes anymore when i kiss ...         1   \n",
       "...                                                 ...       ...   \n",
       "5063  dime si es ver dad me dijon que te estes casa ...         0   \n",
       "5064  yeah uhuh your boy juicy j she bad yeah in cas...         1   \n",
       "5065  going out tonight changes into something red h...         1   \n",
       "5066  oh man oh man oh man not again yeah i learned ...         1   \n",
       "5067  i want you to breathe me in let me be your air...         1   \n",
       "\n",
       "                                                 Tokens  \\\n",
       "0     [uno, dos, one, two, tres, quatro, matty, told...   \n",
       "1     [sugar, pie, honey, bunch, you, know, that, i,...   \n",
       "2     [i, ca, n't, get, no, satisfaction, i, ca, n't...   \n",
       "3     [when, i, woke, up, this, morning, you, were, ...   \n",
       "4     [you, never, close, your, eyes, anymore, when,...   \n",
       "...                                                 ...   \n",
       "5063  [dime, si, es, ver, dad, me, dijon, que, te, e...   \n",
       "5064  [yeah, uhuh, your, boy, juicy, j, she, bad, ye...   \n",
       "5065  [going, out, tonight, changes, into, something...   \n",
       "5066  [oh, man, oh, man, oh, man, not, again, yeah, ...   \n",
       "5067  [i, want, you, to, breathe, me, in, let, me, b...   \n",
       "\n",
       "                                             Normalized  \n",
       "0     [uno, dos, tres, quatro, matty, tell, hatty, t...  \n",
       "1     [sugar, pie, honey, bunch, know, love, help, l...  \n",
       "2     [satisfaction, satisfaction, try, try, try, tr...  \n",
       "3     [wake, morning, mind, mind, trouble, whoa, oh,...  \n",
       "4     [close, eye, anymore, kiss, lip, tenderness, l...  \n",
       "...                                                 ...  \n",
       "5063  [dime, si, es, ver, dad, dijon, que, te, estes...  \n",
       "5064  [yes, uhuh, boy, juicy, bad, yes, case, know, ...  \n",
       "5065  [tonight, change, red, mother, like, kind, dre...  \n",
       "5066  [oh, man, oh, man, oh, man, yes, learn, game, ...  \n",
       "5067  [want, breathe, let, air, let, roam, body, fre...  \n",
       "\n",
       "[5068 rows x 8 columns]"
      ]
     },
     "execution_count": 12,
     "metadata": {},
     "output_type": "execute_result"
    }
   ],
   "source": [
    "billboard_df"
   ]
  },
  {
   "cell_type": "code",
   "execution_count": 13,
   "metadata": {},
   "outputs": [],
   "source": [
    "billboard_df.to_csv('cleaned_billboard.csv',index=None)"
   ]
  }
 ],
 "metadata": {
  "kernelspec": {
   "display_name": "Python 3",
   "language": "python",
   "name": "python3"
  },
  "language_info": {
   "codemirror_mode": {
    "name": "ipython",
    "version": 3
   },
   "file_extension": ".py",
   "mimetype": "text/x-python",
   "name": "python",
   "nbconvert_exporter": "python",
   "pygments_lexer": "ipython3",
   "version": "3.7.3"
  }
 },
 "nbformat": 4,
 "nbformat_minor": 4
}
