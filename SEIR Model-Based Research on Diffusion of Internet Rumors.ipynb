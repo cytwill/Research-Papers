{
 "cells": [
  {
   "cell_type": "markdown",
   "metadata": {},
   "source": [
    "# 基于SEIR模型的网络谣言传播研究报告\n",
    "                                                                 ——管实1501班 董雪 陈宇韬 伍岳韵 段洪晨"
   ]
  },
  {
   "cell_type": "markdown",
   "metadata": {},
   "source": [
    "# 摘要\n",
    "\n",
    "   本文基于在线社交网络，结合有疾病潜伏期的传染病模型，并进一步考虑了潜伏者的兴趣衰减，构造了一个有兴趣衰减的SEIR谣言传播模型。该模型考虑了节点度和传播机理的影响，结合复杂网络和传染病动力学理论，进一步建立了动力学演化方程组。该方程组刻画了不同类型节点随着时间的演化关系，反映了传播动力学过程受到网络拓扑结构和传播机理的影响。本文模拟了在线社交网络中的信息传播过程，并分析了不同类型节点在网络中的行为规律。仿真结果表明：由于在线社交网络的高度连通性，信息在网络中传播的门槛几乎为零；初始传播节点的度越大，信息越容易在网络中迅速传播；中心节点具有较大的社会影响力；具有不同度数的节点在网络中的变化趋势大体相同。（有待仿真结果进一步完善）研究表明该模型符合在线社交网络的特性，有助于更深刻地理解发生在在线社交网络中的传播行为。\n",
    "   \n",
    "   关键词：在线社交网络，信息传播，微分方程，传染病动力学"
   ]
  },
  {
   "cell_type": "markdown",
   "metadata": {},
   "source": [
    "# 1.引言\n",
    "\n",
    "   在当前社会中,谣言的爆炸性传播现象引起了广泛的关注,谣言的不确定性,较强的时效性、主观性和关联性，尤其是在线社交网络的出现使得谣言传播不仅更加容易,而且传播范围更广,社会危害也更大,因此研究在线社交网络的谣言传播机制及模型对于控制网络谣言的传播意义重大[1]。社交网络与人们的生活息息相关，Web2.0时代，社会性网络服务(social network service，SNS)[2]是一个技术应用架构。通过网络聊天、朋友圈、微博、博客和社区共享等途径，SNS实现个体社交圈的逐步扩大，最终形成一个联结“熟人的熟人”的大型网络社交圈，充分反映出人类社会的六度分离特征。在国外，首屈一指的SNS网络——Facebook[3]拥有超过千万的用户，成为全世界最大的社交网站。在国内，微博、微信、QQ等提供SNS服务的网站的发展也如日中天。在线社交网络作为一个虚拟社会，人在SNS网络上的行为与现实生活的行为具有共性。网络用户行为易受主观及外部因素的影响（介飞，谢飞，2017）。\n",
    "   \n",
    "   在线社交网络与传统的Web网络在信息传播方式上存在着根本的不同。传统的Web网络是以信息内容为主体进行传播；在线社交网络是以人为中心，依靠人\n",
    "与人之间的好友关系进行信息的传播。如今，人们在获取信息的时候更加在乎信息的来源。这种获取信息的方式将关注的重心放在人们会从谁那里获取信息，又会与谁分享信息。传统的传播行为，如计算机病毒在计算机网络上的蔓延[4]、传染病在人群中的流行[5]、谣言在社会中的扩散[6]、信息在虚拟社区和博客中的传播[7]，都可以看作是服从某种规律的传播行为。SNS网络打破了传统传播方法，它利用人与人的关系改变人与信息的关系，反过来又用人与信息的关系影响人与人的关系。如何去描述在线社交网络中的传播行为，揭示它的特性，具有重要的理论和应用价值，是我们关注的焦点。\n",
    "   \n",
    "   Kermack和McKendrick在1927年提出关于传染病传播的数学模型，他们将总人口分为易感者(S)、染病者(I)和恢复者(R)三类,利用动力学的方法建立了SIR传染病模型,并对其传播规律和流行趋势进行了研究。基于SIR的模型思想，学界也提出了与之类似的基于网络结构的信息扩散模型。目前网络传播动力学的研究焦点之一是以经典的传染病动力学模型为基础，研究特定网络的信息传播规律。针对社交网络中信息传播的特点，在传统的SIR模型基础上，通过加入新的一类假免疫节点，建立了新的SDIR模型。并考虑到邻居节点间的相互影响，通过定义三个传播概率函数，对SDIR模型做了改进，得到了更加符合社交网络特点的传播模型（张永，和凯，2017）。2016年丁艳艳在假设病人会以一定的概率治愈后成为健康人的情况下所做的基于SIS模型的高校应对学生扩散网络谣言的策略分析[8]。苏国强和兰月新在对基于SIR的突发事件网络谣言扩散模型研究中考虑了治愈率的概念[9]。而在张彦超和刘云基于社交网络的信息传播模型中，他们考虑了传播节点不会无休止地传播下去，会以一定的速度v停止传播而变为免疫节点，且无需与其他节点接触。顾亦然和夏玲玲在在线社交网络中的谣言与抑制中则假设一个网络节点最多只传播一次谣言[10]。本文在已有的模型基础上更深入地考虑了人的心理和行为对谣言传播的作用和影响，对已有的谣言传播模型做出了改进。我们借鉴传染病模型的研究思路，即传染病的可治愈性来优化我们自己的模型。传染病动力学模型在可治愈性分类研究方面已有很多成果：SEI(患病后难以治愈)模型，即有疾病潜伏期的传染病患病后难以治愈。SEIS(患病后可以治愈)模型，即有疾病潜伏期的传染病患病后可以治愈，但是康复的病人无免疫期，即康复的病人可以立即再次被感染。SEIR(病人康复后具有永久免疫力)模型，即有疾病潜伏期的传染病患病后可以治愈,而且病人康复后具有永久免疫力 。SEIS(病人康复后仅有暂时免疫力)模型[11][12]等。和传染病的免疫机理相似，我们考虑谣言在网络节点中的可传播次数。传染病的免疫类型分为暂时免疫和永久免疫，即传染病可以爆发无穷次和只爆发一次。如果我们将谣言的传播类比于传染病的爆发，即谣言在网络节点传播一次类似于传染病在一个潜伏者身上发作一次，那么谣言的传播可以分为多次传播和一次传播。多次传播即一个网络节点可以传播多次谣言，一次传播即一个网络节点最多只能传播一次谣言。显然，多次传播更加符合我们的生活实际，诸如新闻热点红黄蓝幼儿园事件就在各大媒体上引起大量转发，往往一个账号还伴有多条转发记录。更实际的情况是，一个账号或个人可以重复的转发谣言并且在一段时间后可能会因为各种原因，如谣言被证明真伪热度下降或者个人的精力转移，而慢慢失去了对该谣言事件的兴趣从而不再传播谣言。而在考虑多次传播的模型时，以往的模型大多假设潜伏着以一个定值概率转变为传播者，而传播者又以另一恒定概率成为免疫者。基于上述考虑，本文将更加贴近实际，在原有SEIR模型基础之上，考虑暂时性免疫和永久性免疫，并同时引入谣言热度衰减的影响。"
   ]
  },
  {
   "cell_type": "markdown",
   "metadata": {},
   "source": [
    "# 2.传播机理与SEIR模型\n",
    "\n",
    "   在SNS网络中，一个人发布的状态、转发的消息会被其好友看到，针对以传播性为主要特点与目的的谣言来说，每个人都将有一定概率看到好友动态而接触到谣言且对谣言产生兴趣，随之他将做出传播谣言或不传播谣言的决定与行为，从而继续影响下一位好友。无论是诸如红黄蓝幼儿园虐童这样的社会热点型谣言，还是诸如长期喝普洱茶可能致癌这样的知识科普型谣言，其传播热度都会随时间的增加而降低，故而假设传播过谣言的人既不会无休止地传播下去，也不会立刻停止传播，而是以一定的速率逐渐地停止传播。\n",
    "   \n",
    "   由于谣言在人际关系网络中的传播特征与病毒的扩散特征很相似，所以在此采用改进的传染病模型来进行社交网络中谣言传播行为的探究。根据谣言信息在SNS网络中的传播规律，结合真实社交网络中用户对待谣言的客观行为，我们将社交网路中的节点分为四类：健康节点、潜伏节点、传播节点、免疫节点。其中，健康节点表示该节点用户的好友动态中尚未出现过谣言，其是否能接触到谣言取决于其是否能接触到谣言传播者；潜伏节点表示该节点用户的好友动态中已经出现了谣言，但用户是否能够看到谣言取决于其对好友动态的关注程度等主观因素及好友动态吸引程度等客观因素；传播节点表示在此之前的潜伏节点看到了谣言，且基于相信谣言等可能原因而将谣言传播了出去；免疫节点表示不会传播谣言的用户，包含两种情况：在此之前的潜伏节点看到了谣言但可能不相信或没兴趣而没有传播，或是经过一段时间后在此之前的传播节点停止传播。此外，针对免疫节点的第一种情况，可能存在原来对谣言不相信或不感兴趣的用户由于频繁接收到好友传播的谣言刺激等可能原因而又对谣言相信或感兴趣，进而由免疫节点转变为传播节点。\n",
    "   \n",
    "   网络图中节点在健康状态S、潜伏状态E、传播状态I、免疫状态R之间的转移遵循以下传播规则：\n",
    "   \n",
    "\t1、如果一个健康节点S与一个传播节点I接触，则健康节点会以概率p1变为潜伏节点E。记p1为接触率，其大小由具体的网络拓扑结构决定；\n",
    "\t2、潜伏节点E会以一定的概率p2变为传播节点I，以一定的概率p3变为免疫节点R；\n",
    "\t3、传播节点I不会无休止传播下去，也不会立刻停止传播，而是以一定的速率v逐渐停止传播而变为免疫节点R。记传播节点I变为免疫节点R的概率为p5，其大小由变化的时间t和固定的速率v决定，速率v的大小由具体的谣言热度决定，谣言热度越大，v越小。\n",
    "\t4、前一状态是潜伏节点E的免疫节点R不会永久免疫下去，会以一定的概率p4变为传播节点I。\n",
    "    \n",
    "   在线社交网络中的谣言传播模型的节点状态转移图，如图1所示：\n",
    "   ![image](https://github.com/cytwill/Research-Papers/blob/master/SEIR%20Model-Based%20Research%20on%20Diffusion%20of%20Internet%20Rumors/Figures/Intro-1.png?raw=true)\n",
    "   \n",
    "   针对上述在线社交网路中的谣言传播状态转移图，将t时刻在线社交网络中的用户数分为健康者S(t)、潜伏者E(t)、传播者I(t)、免疫者R(t)。总用户数量为N，则任意时刻都有N=S(t)+E(t)+I(t)+R(t)。SEIR模型可以用下列微分方程组描述：\n",
    "   ![image](https://github.com/cytwill/Research-Papers/blob/master/SEIR%20Model-Based%20Research%20on%20Diffusion%20of%20Internet%20Rumors/Figures/Intro-2.png?raw=true)                   \n",
    "   \n",
    "   上式中，第一个式子表示健康节点的变化率；第二个式子表示潜伏节点的变化率；第三个式子表示传播节点的变化率；第四个式子表示免疫节点的变化率；第五个式子表示传播节点变为免疫节点的概率的变化率。\n"
   ]
  },
  {
   "cell_type": "markdown",
   "metadata": {},
   "source": [
    "# 3.传播动力学系统仿真及分析\n",
    "    \n",
    "   传播动力学适合研究疾病传播，网络舆情扩散这一类具有大范围传播，节点状态具有实时变化性质的自然和社会问题。本项目所研究的SNS网络中谣言传播的演化趋势也属于以上传播动力学的研究范畴，因而我们采用2.1中所述的SEIR传播模型，并考虑谣言热度的衰减效应，进行动力学的仿真建模。\n",
    "  \n",
    "# 3.1 传播动力学仿真\n",
    "   我们将该网络设置为含有4039个节点的传播网络，设置的系统仿真时间t=40。在t=0时，将系统的初始状态设置为有一个传播节点(I),其余节点都处于健康易感状态(S)。对于系统的参数设置，我们进行如下的处理：概率p1=0.002，p2=0.5, p3=0.5, p4=0.5, 谣言热度衰减速度v为0.025。\n",
    "   \n",
    "   利用python语言实现过程及结果如下："
   ]
  },
  {
   "cell_type": "code",
   "execution_count": null,
   "metadata": {},
   "outputs": [],
   "source": [
    "#considering the velocity of the decline in the diffusion of rumors\n",
    "import matplotlib.pyplot as plt    #matplotlib deal with plotting\n",
    "import numpy as np    #numerical computation\n",
    "\n",
    "t0= 0    #start point\n",
    "te= 40    #end point\n",
    "delta= 0.1    #step length\n",
    "\n",
    "s= np.zeros(401)    \n",
    "ds= np.zeros(401)\n",
    "s[0]= 4038;    #initial value\n",
    "\n",
    "e= np.zeros(401)    \n",
    "de= np.zeros(401)\n",
    "e[0]= 0;    #initial value\n",
    "\n",
    "i= np.zeros(401)    \n",
    "di= np.zeros(401)\n",
    "i[0]= 1;    #initial value\n",
    "\n",
    "r= np.zeros(401)    \n",
    "dr= np.zeros(401)\n",
    "r[0]= 0;    #initial value\n",
    "\n",
    "p1=0.002; p2=0.5; p3=0.5; p4=0.5; v=0.025;\n",
    "\n",
    "p5= np.zeros(401)    \n",
    "dp5= np.zeros(401)\n",
    "p5[0]= 0;    #initial value\n",
    "\n",
    "for k in np.arange(400):\n",
    "    ds[k]= -p1*s[k]*i[k];    #computing the first derivative\n",
    "    s[k+1]= s[k]+ delta*ds[k];#estimating function value by differential property\n",
    "    \n",
    "    de[k]=p1*s[k]*i[k]-(p2+p3)*e[k];\n",
    "    e[k+1]= e[k]+ delta*de[k];\n",
    "    \n",
    "    di[k]=(p2+p3*p4)*e[k]-p5[k]*i[k];\n",
    "    i[k+1]= i[k]+ delta*di[k];\n",
    "    \n",
    "    dr[k]=(p3-p3*p4)*e[k]+p5[k]*i[k];\n",
    "    r[k+1]= r[k]+ delta*dr[k];\n",
    "    \n",
    "    dp5[k]=0.025;\n",
    "    p5[k+1]= p5[k]+ delta*dp5[k];\n",
    "\n",
    "time= np.arange(t0,te+delta,delta);    \n",
    "\n",
    "plt.plot(time, s/4039,'g') #plotting\n",
    "plt.plot(time, e/4039,'y')\n",
    "plt.plot(time, i/4039,'r')\n",
    "plt.plot(time, r/4039,'b')\n",
    "plt.plot(time, p5,'c')\n",
    "\n",
    "plt.xlabel('time t')\n",
    "plt.ylabel('ratio')\n",
    "plt.title('Pic1. Evolution Situation')\n",
    "plt.legend(('S','E','I','R','p5=0.025t'))\n",
    "plt.xlim([0,40])\n",
    "plt.ylim([0.0,1.0])\n",
    "plt.show()"
   ]
  },
  {
   "cell_type": "markdown",
   "metadata": {},
   "source": [
    "   ![image](https://github.com/cytwill/Research-Papers/blob/master/SEIR%20Model-Based%20Research%20on%20Diffusion%20of%20Internet%20Rumors/Figures/1.png?raw=true)\n",
    "   从上述仿真结果来看，S群体在t处于3-5的时间段内，下降率先增后减越过峰值，并迅速下降至0，说明尽管初始传播者只有一人，但依然可以在短时间内使谣言扩散到大众网络中；E群体的峰值出现在t=5时刻左右，I群体出现在t=7时刻左右，具有一定的滞后性，这与现实中的情况也较为符合，可以理解为大众网络对谣言传播存在集体反应时间；在t=20左右，全部节点进入免疫状态(R),谣言传播结束。"
   ]
  },
  {
   "cell_type": "code",
   "execution_count": null,
   "metadata": {},
   "outputs": [],
   "source": [
    "effected=i+e\n",
    "plt.plot(time, effected/4039,'r')\n",
    "plt.xlabel('time t')\n",
    "plt.ylabel('ratio')\n",
    "plt.title('Pic2. Effected Situation')\n",
    "plt.legend(\"effected\")\n",
    "plt.xlim([0,40])\n",
    "plt.ylim([0.0,1.0])\n",
    "plt.show()"
   ]
  },
  {
   "cell_type": "markdown",
   "metadata": {},
   "source": [
    "   ![image](https://github.com/cytwill/Research-Papers/blob/master/SEIR%20Model-Based%20Research%20on%20Diffusion%20of%20Internet%20Rumors/Figures/2.png?raw=true)\n",
    "   将(E(t)+I(t))/N作为衡量整个网络中谣言影响程度的指标，得到上述图2，可以更加直观的发现在t=5时刻，谣言的影响达到峰值，整个网络中有接近80%的节点都受到影响。此计量标准将在后续分析中持续使用。"
   ]
  },
  {
   "cell_type": "markdown",
   "metadata": {},
   "source": [
    "# 3.2 频率参数敏感性分析\n",
    "\n",
    "   在本研究所提出的改进后的SEIR模型中，包含有五个核心的影响节点状态转移的频率参数，即p1,p2,p3,p4,p5。其中参数p5属于受时间和热度衰减速率影响的二次变量，其他四个频率参数均属于系统设定参数，在传播过程中可视为常数。在本小节中，将具体探讨p1,p2,p3,p4的变化将对基于传播动力学的谣言传播系统产生何种影响，得到相关的参数敏感性分析结论。\n",
    "   \n",
    "# 3.2.1 p1敏感性分析\n",
    "   \n",
    "   p1衡量的是健康节点变成潜伏节点的可能性，该概率中所包含的不确定性主要来自于健康节点是否与传谣节点有直接联系，以及谣言传播之后健康节点进行了接受。对上述模型中的原始p1值设定为0.002，属于一个较低的概率水平，对其进行改动，令p1分别等于0.0005和0.005，得到如下的仿真结果：\n",
    "   \n",
    "   ![image](https://github.com/cytwill/Research-Papers/blob/master/SEIR%20Model-Based%20Research%20on%20Diffusion%20of%20Internet%20Rumors/Figures/3.png?raw=true)                   \n",
    "   ![image](https://github.com/cytwill/Research-Papers/blob/master/SEIR%20Model-Based%20Research%20on%20Diffusion%20of%20Internet%20Rumors/Figures/4.png?raw=true)"
   ]
  },
  {
   "cell_type": "markdown",
   "metadata": {},
   "source": [
    "通过三组不同的p1值下的谣言传播演化曲线可以大致发现，随着p1值的增大谣言传播影响的峰值会随之增大，并且E群体的峰值增势要大于I群体,同时谣言影响达到峰值的时间缩短。而相应的，S群体的下降速度也增大，消失时间提前。利用上文中提及的(E(t)+I(t))/N指可以更直观的体现这些趋势：\n",
    "\n",
    "![image](https://github.com/cytwill/Research-Papers/blob/master/SEIR%20Model-Based%20Research%20on%20Diffusion%20of%20Internet%20Rumors/Figures/5.png?raw=true)\n",
    "\n",
    "![image](https://github.com/cytwill/Research-Papers/blob/master/SEIR%20Model-Based%20Research%20on%20Diffusion%20of%20Internet%20Rumors/Figures/6-7.png?raw=true)"
   ]
  },
  {
   "cell_type": "markdown",
   "metadata": {},
   "source": [
    "从图6和图7中可以相当直观的看出p1变化趋势与谣言传播峰值比率和时间的关系，p1与谣言传播的峰值比率成正相关，与谣言传播的峰值时间呈负相关，并且随着p1值的增大，对于峰值比率和峰值时间的变化趋势都减缓，敏感性持续降低。"
   ]
  },
  {
   "cell_type": "markdown",
   "metadata": {},
   "source": [
    "# 3.2.2 p2与p3敏感性分析\n",
    "\n",
    "  p2与p3度量的是处于潜伏状态的节点(E)是否会即刻成为传谣者的概率大小，该概率常与节点个体的心理特征，判断能力，以及谣言来源的公信力、与潜伏状态节点的亲缘关系等有关，但以上因素对p2,p3的影响上不在本项目研究范畴之内，可作为后续研究的指导方向。在本小节中，将对p2和p3进行类似上文中p1的敏感性分析，来获取其值变化对谣言传播演化过程的影响。\n",
    "  \n",
    " 在该部分敏感性分析中，我们进行了以下假设：\n",
    "                                            p2+p3=1\n",
    " 原因是从结果导向来看，该两种概率事件具有对立性。潜伏节点要么选择传谣进入I群体，要么选择不传谣成为(暂时性)免疫节点(R)，这两种选择具有对立性，因此在进行接下来的敏感性分析中我们只需对其中一项进行分析，另外一项则具有相反的变化趋势。\n",
    " \n",
    " 在本课题中以p3作为分析项进行敏感性分析：\n",
    " \n",
    " ![image](https://github.com/cytwill/Research-Papers/blob/master/SEIR%20Model-Based%20Research%20on%20Diffusion%20of%20Internet%20Rumors/Figures/8-9.png?raw=true)"
   ]
  },
  {
   "cell_type": "markdown",
   "metadata": {},
   "source": [
    "从图8和图9可知，p3值的变化对峰值比率和峰值时间的变化都近似呈线性关系，其中与峰值比率成正相关，与峰值时间呈负相关，但是峰值比率对于p3的敏感性显著大于峰值时间对于p3的敏感性。说明在谣言传播的范围控制上改变p3可以起到一定的作用，但是在控制和预测谣言爆发的时间的问题上，p2、p3值的调节作用并不显著。"
   ]
  },
  {
   "cell_type": "markdown",
   "metadata": {},
   "source": [
    "# 3.2.3 p4敏感性分析\n",
    "\n",
    "频率参数p4衡量的是R群体中的暂时性免疫节点反向成为传谣者(I)的可能性，该状态转移的发生通常是因为暂时性免疫节点在后续又受到多次传谣者的传谣行为影响，因此此处的概率p4是一个统计意义上的概率值。值得一提的是，在原始的SEIR模型中，并没有对暂时性免疫和永久性免疫进行有效区分，因此在节点由R状态回转到I状态时，笼统的以概率p4\\*R(t)进行处理。这样做将有可能把已进入永久免疫状态的节点也回转到I状态中，违反了模型设计的假设。所以在我们改进的模型模型中，回转部分的变化量我们用p3\\*E(t)\\*p4进行取代,其中p3\\*E(t)代表的就是进入暂时性免疫状态的节点量。\n",
    "\n",
    "对p4进行相同的敏感性分析，结果如下：\n",
    "\n",
    "![image](https://github.com/cytwill/Research-Papers/blob/master/SEIR%20Model-Based%20Research%20on%20Diffusion%20of%20Internet%20Rumors/Figures/10-11.png?raw=true)"
   ]
  },
  {
   "cell_type": "markdown",
   "metadata": {},
   "source": [
    "通过图10和图11可以发现p4的值与峰值比率呈正相关，与峰值时间呈负相关，且都接近线性关系。与p2,p3相似的是，峰值比率对于p4的敏感性显著大于峰值时间对于p3的敏感性，说明在谣言传播的范围控制上改变p4可以起到一定的作用，但是在控制和预测谣言爆发的时间的问题上，p2、p3值的调节作用并不显著。"
   ]
  },
  {
   "cell_type": "markdown",
   "metadata": {},
   "source": [
    "# 3.3 热度衰减参数分析\n",
    "\n",
    "  在本次研究中，对于谣言转播过程中热度衰减因素的引入具有一定的独创性。谣言传播的热度衰减指的是谣言传播过程中，谣言对传谣者吸引力随时间递减的现象。在我们提出的模型中，具体表现在衰减速率参数v的引入上。参数v通过作用于传谣者(I)向永久免疫型节点(R)转移的概率p5,来影响整个传播动力学模型的演化。在本案例中初始设定的v为常数0.025,衰减速率恒定，即在每一个时点从I状态转移走的节点比率都比上一个时点多0.025，说明越到后期I状态节点向R状态转移得越快，这与日常生活中的情况也相符合。\n",
    "  \n",
    "# 3.3.1 敏感性分析\n",
    "  \n",
    " 基于v为常数的设定，在本小节中对v值的变化进行敏感性分析，以观测v值变化对整个模型演化的影响。需要指出的是，由于在传播中v通过作用于p5而产生影响，而概率值不能大于1，在此对v值限定在[0,0.025]之间，以保证在t=40时刻，概率值p5不超过1。具体分析结果如下：\n",
    " \n",
    " ![image](https://github.com/cytwill/Research-Papers/blob/master/SEIR%20Model-Based%20Research%20on%20Diffusion%20of%20Internet%20Rumors/Figures/12-13.png?raw=true)"
   ]
  },
  {
   "cell_type": "markdown",
   "metadata": {},
   "source": [
    "根据图12和图13的结果可知，在衰减速率设置为常数的情况下，衰减速率v的改变对峰值比率和峰值时间的影响都并不显著。说明在常数假设下，改变v对谣言影响的控制并没有明显作用。\n",
    "\n",
    "# 3.3.2 参数形式分析\n",
    "\n",
    "在上一小节的分析中发现当衰减速率参数v设置为常数时，传播情况衡量指标的敏感性并不强。在本小节中，则试图在谣言衰减速率随时间增大的基本前提下，将v设置成幂函数，指数函数与对数函数三种形式，同时依旧保证在仿真时间段内，p5的值不超过一，即v最大为0.025。观测在不同形式的衰减速率情况下，对谣言传播产生的影响：\n",
    "\n",
    "常数型设定：令v=0.025;幂函数设定：令v=t/1600和v=t^2/64000；指数函数设定：令v=0.025e^(t-40)；对数函数设定：令v=Int/40In(40).以上文中提到的谣言影响度量指标(S(t)+I(t))/N对不同参数v形式下的谣言峰值比率和时间进行度量：\n",
    "\n",
    "![image](https://github.com/cytwill/Research-Papers/blob/master/SEIR%20Model-Based%20Research%20on%20Diffusion%20of%20Internet%20Rumors/Figures/14.png?raw=true)"
   ]
  },
  {
   "cell_type": "markdown",
   "metadata": {},
   "source": [
    "从图14中发现v的结构变化对谣言传播情况产生了以下影响：\n",
    "\n",
    "    1、对于峰值比率而言，常数型、对数函数、幂函数、指数函数形式的v达到的峰值比率依次上升，但上升的幅度并不大。\n",
    "    2、对于峰值出现的时间，不同形式的参数v基本不产生影响，从图中可以看出都在t=6时刻左右达到谣言影响的峰值。\n",
    "    3、对于谣言的影响时间，参数v的结构改变产生了较大的影响。从数学分析的层面上看，与p5的凹凸性有关。通过图14可观察到，如果谣言的热度衰减速率处于指数级水平，则在相当长的一段时间(t=7~37)内，谣言会保持较高的影响率；而如果将谣言的热度衰减控制到对数级或常数水平，则其影响的时间范围将会大大缩短；对于幂函数而言，谣言的影响时间有随着幂指数的升高而延长的趋势。"
   ]
  },
  {
   "cell_type": "markdown",
   "metadata": {},
   "source": [
    "# 4. 社交网络结构谣言传播系统仿真\n",
    "   \n",
    "   在第三部分对SNS社交网络中的谣言传播进行了基于传播动力学的仿真，但是该类仿真中将节点高度颗粒化，没有较好的考虑节点之间关联情况的影响。本小节中将利用Facebook中网络节点的原始数据集，进行包含有网络拓扑结构的系统仿真建模，分析具体网络情境下谣言传播的演化情况，并与动力学仿真情况进行对比分析，对谣言传播中的影响因素进行更综合考虑。\n",
    "     \n",
    "# 4.1 Facebook 网络结构简述\n",
    "   \n",
    "   Facebook作为全球盛行的SNS社交网络平台，具有庞大的用户体量和社交数据，用户之间的关联性错综复杂，体现了当下社交网络的共性，因此选取Facebook数据集作为网络分析的底图是具有合理性的。来自斯坦福大学SNAP平台的社交网站统计数据给出了如下关于Facebook的基本网络结构描述：\n",
    "   \n",
    "   ![image](https://github.com/cytwill/Research-Papers/blob/master/SEIR%20Model-Based%20Research%20on%20Diffusion%20of%20Internet%20Rumors/Figures/Facebook Datasets Description.png?raw=true)\n",
    "   \n",
    "   在此基础上，我们利用python语言对Facebook中的原始数据集进行了导入，生成了相关的网络结构图，实施过程及结果如下："
   ]
  },
  {
   "cell_type": "code",
   "execution_count": null,
   "metadata": {},
   "outputs": [],
   "source": [
    "import numpy as np \n",
    "import networkx as nx\n",
    "import matplotlib.pyplot as plt\n",
    "\n",
    "# 构建Facebook社交网络\n",
    "\n",
    "fh=open(\"facebook_combined.txt\", 'rb')\n",
    "G=nx.read_edgelist(fh)\n",
    "fh.close();\n",
    "\n",
    "pos = nx.spring_layout(G)\n",
    "nx.draw(G, pos,with_labels=False,node_size =4,edge_color = 'gray', width = 0.5 )\n",
    "plt.title('Pic15. Facebook Network Structure')\n",
    "plt.show()"
   ]
  },
  {
   "cell_type": "markdown",
   "metadata": {},
   "source": [
    "![image](https://github.com/cytwill/Research-Papers/blob/master/SEIR%20Model-Based%20Research%20on%20Diffusion%20of%20Internet%20Rumors/Figures/15.png?raw=true)"
   ]
  },
  {
   "cell_type": "markdown",
   "metadata": {},
   "source": [
    "# 4.2 社交网络谣言传播仿真\n",
    "\n",
    "   在Facebook数据集所构成的虚拟网络基础上进行谣言传播的模拟，为保持和第三部分中传播动力学仿真的一致性，我们采取相同的参数设置：网络中一共含有4039个节点，其中选取节点度大小为44(接近网络平均度水平)的40号节点作为初始的谣言传播者(I)，而其他节点均为健康易感者(S),概率参数的设定也为p1=0.002，p2=0.5, p3=0.5, p4=0.5, 谣言热度衰减速度v为0.025。\n",
    "   \n",
    "   需要注意的是，在本仿真中对于S群体中节点向E群体中节点转移的依据是该S状态节点的邻居中是否有处于状态I的节点，而不采用概率约束(即p1值无效),原因是状态为S的节点一旦与状态为I的节点有联系，必然会收到I的谣言传播。而R群体中未传播过谣言的节点向I群体中转化的过程则采用两种约束共用的方法，原因是该部分状态为R的节点要成为传谣者，通常需要接受来自I群体中节点的再刺激，并且也不一定就成为传谣者。此外，节点在其余状态间的转移均采用概率约束。"
   ]
  },
  {
   "cell_type": "code",
   "execution_count": null,
   "metadata": {},
   "outputs": [],
   "source": [
    "#构造状态转移函数\n",
    "def transition(t):\n",
    "    #S的状态转换\n",
    "    for n in s_nodes:\n",
    "        for k in G[n]:\n",
    "            if k in i_nodes: \n",
    "                s_nodes.remove(n)\n",
    "                e_nodes.append(n)\n",
    "                break;\n",
    "\n",
    "    #E的状态转换\n",
    "    for n in e_nodes:\n",
    "        if np.random.uniform(0,1)<=p2:\n",
    "                e_nodes.remove(n)\n",
    "                i_nodes.append(n)\n",
    "        elif np.random.uniform(0,1)<=p2+p3:\n",
    "                e_nodes.remove(n)\n",
    "                r1_nodes.append(n);\n",
    "            \n",
    "    #I的状态转换\n",
    "    for n in i_nodes:\n",
    "        if np.random.uniform(0,1)<=p5[t]:\n",
    "                i_nodes.remove(n)\n",
    "                r2_nodes.append(n);\n",
    "        \n",
    "    #R的状态转换（R1的转换）\n",
    "    for n in r1_nodes:\n",
    "        for k in G[n]:\n",
    "            if k in i_nodes and np.random.uniform(0,1)<=p4: \n",
    "                r1_nodes.remove(n)\n",
    "                i_nodes.append(n)\n",
    "                break;\n",
    "                \n",
    "    r_nodes=r1_nodes+r2_nodes;\n",
    "\n",
    "    s[t+1]=len(s_nodes)\n",
    "    e[t+1]=len(e_nodes)\n",
    "    i[t+1]=len(i_nodes)\n",
    "    r[t+1]=len(r_nodes)\n",
    "    p5[t+1]=p5[t]+delta*v;\n",
    "    \n",
    "    return\n",
    "\n",
    "\n",
    "#单次仿真时间设定\n",
    "t0= 0    #start point\n",
    "te= 40    #end point\n",
    "delta= 0.1    #step length\n",
    "\n",
    "s= np.zeros(401)    \n",
    "s[0]= 4038;    #initial value\n",
    "\n",
    "e= np.zeros(401)    \n",
    "e[0]= 0;    #initial value\n",
    "\n",
    "i= np.zeros(401)    \n",
    "i[0]= 1;    #initial value\n",
    "\n",
    "r= np.zeros(401)    \n",
    "r[0]= 0;    #initial value\n",
    "\n",
    "p1=0.002; p2=0.5; p3=0.5; p4=0.5; v=0.025;\n",
    "\n",
    "p5= np.zeros(401)    \n",
    "p5[0]= 0;    #initial value\n",
    "\n",
    "#进行含有Facebook网络结构的仿真操作\n",
    "    \n",
    "#设置初始各个状态的节点集\n",
    "s_nodes=list(G.nodes())  \n",
    "s_nodes.remove('40')\n",
    "e_nodes=list()\n",
    "i_nodes=list()\n",
    "i_nodes.append('40')\n",
    "r1_nodes=list()   #暂时免疫\n",
    "r2_nodes=list()   #完全免疫\n",
    "r_nodes=r1_nodes+r2_nodes\n",
    "\n",
    "time= np.arange(t0,te+delta,delta);\n",
    "\n",
    "for n in np.arange(400):\n",
    "    transition(n); \n",
    "\n",
    "plt.plot(time, s/4039.0,'g') #plotting\n",
    "plt.plot(time, e/4039.0,'y')\n",
    "plt.plot(time, i/4039.0,'r')\n",
    "plt.plot(time, r/4039.0,'b')\n",
    "plt.plot(time, p5,'c')\n",
    "\n",
    "plt.xlabel('time t')\n",
    "plt.ylabel('ratio')\n",
    "plt.title('Pic16 Evolution Situation')\n",
    "plt.legend(('S','E','I','R','p5=0.025t'))\n",
    "plt.xlim([0,40])\n",
    "plt.ylim([0.0,1.0])\n",
    "plt.show()"
   ]
  },
  {
   "cell_type": "markdown",
   "metadata": {},
   "source": [
    "  ![image](https://github.com/cytwill/Research-Papers/blob/master/SEIR%20Model-Based%20Research%20on%20Diffusion%20of%20Internet%20Rumors/Figures/16.png?raw=true)\n",
    "  从上述仿真结果来看，各群体的基本走势与传播动力学的结论保持一致。但是整个网络中谣言传播的剧烈程度较动力学模型而言要强烈得多，呈现出“来的快，去的也快”的趋势。谣言爆发的时间段提前到了t=2左右，而谣言停止传播的时点则在t=6左右，该趋势反映了节点之间的联系对谣言传播的重要影响。由Facebook网络结构的基本信息可知其具有较高的聚类系数(大于0.5)，说明节点之间联系相当频繁、紧密，因此出现这样的趋势也是合乎逻辑的。"
   ]
  },
  {
   "cell_type": "code",
   "execution_count": null,
   "metadata": {},
   "outputs": [],
   "source": [
    "effected=i+e\n",
    "plt.plot(time, effected/4039,'r')\n",
    "plt.xlabel('time t')\n",
    "plt.ylabel('ratio')\n",
    "plt.title('Pic17. Effected Situation')\n",
    "plt.legend(\"effected\")\n",
    "plt.xlim([0,40])\n",
    "plt.ylim([0.0,1.0])\n",
    "plt.show()"
   ]
  },
  {
   "cell_type": "markdown",
   "metadata": {},
   "source": [
    " ![image](https://github.com/cytwill/Research-Papers/blob/master/SEIR%20Model-Based%20Research%20on%20Diffusion%20of%20Internet%20Rumors/Figures/17.png?raw=true)\n",
    " 通过对指标(E(t)+I(t))/N的度量，也可以直观的反应在Facebook网络中谣言的传播情况。从图5可以看出，在t=2左右的时刻，谣言影响范围最大，在80%的水平左右。\n",
    " \n",
    " # 4.3 节点度分析\n",
    " \n",
    "   在复杂网络中，各个节点的度分布是衡量各个节点中心性(重要程度）的基本指标。在无向图中，节点的度一般通过与该节点相连的边数来进行度量，度较大的节点在网络中通常具有更大的传播作用，人们常说的意见领袖在一定程度上就属于这样的节点。在SNS网络中的谣言传播研究中，考虑传谣节点的度大小是具有理论重要性的。在本小节中，将展示Facebook网络中，节点度分布的情况，以及初始传播节点的度大小对于谣言传播趋势的影响。"
   ]
  },
  {
   "cell_type": "code",
   "execution_count": null,
   "metadata": {},
   "outputs": [],
   "source": [
    "degree=nx.degree_histogram(G)\n",
    "#返回图中所有节点的度分布序列\n",
    "x = range(len(degree))\n",
    "#生成x轴序列，从1到最大度\n",
    "y = [z / float(sum(degree)) for z in degree]\n",
    "#将频次转化成频率\n",
    "plt.loglog(x,y,color=\"blue\",linewidth=2)\n",
    "#在双对数坐标轴上绘制度分布曲线\n",
    "plt.title('Pic18.Facebook Network Degree Histogram')\n",
    "plt.show()"
   ]
  },
  {
   "cell_type": "markdown",
   "metadata": {},
   "source": [
    "  ![image](https://github.com/cytwill/Research-Papers/blob/master/SEIR%20Model-Based%20Research%20on%20Diffusion%20of%20Internet%20Rumors/Figures/18.png?raw=true)\n",
    "  上图反映了Facebook网络中节点度分布的情况，从大致的图样来看，符合社交网络节点度的幂律分布特性。接下来我们将通过设定不同度分布节点作为起始传播者来研究节点度分布对传播的影响。"
   ]
  },
  {
   "cell_type": "code",
   "execution_count": 4,
   "metadata": {},
   "outputs": [
    {
     "data": {
      "text/plain": [
       "(1045, 1, 43.69101262688784)"
      ]
     },
     "execution_count": 4,
     "metadata": {},
     "output_type": "execute_result"
    }
   ],
   "source": [
    "degree_sequence = [d for n, d in G.degree()]  # degree sequence\n",
    "max_degree=max(degree_sequence) #最大度\n",
    "min_degree=min(degree_sequence) #最小度\n",
    "ave_degree=np.average(degree_sequence) #平均度\n",
    "max_degree,min_degree,ave_degree"
   ]
  },
  {
   "cell_type": "code",
   "execution_count": 5,
   "metadata": {},
   "outputs": [
    {
     "data": {
      "text/plain": [
       "(107, 11, 40)"
      ]
     },
     "execution_count": 5,
     "metadata": {},
     "output_type": "execute_result"
    }
   ],
   "source": [
    "degree_sequence.index(1045),degree_sequence.index(1),degree_sequence.index(44)  \n",
    "#  找出第一个最大度节点      找出第一个最小度节点       找出接近平均度值的节点"
   ]
  },
  {
   "cell_type": "markdown",
   "metadata": {},
   "source": [
    "通过上述程序设计，我们找出了该网络中最大度，最小度和接近平均度大小的节点，分别为107号，11号和40号节点。接下来在分别以这三个节点为初始传播节点的基础上进行仿真实验，得到如下结果：\n",
    "\n",
    "![image](https://github.com/cytwill/Research-Papers/blob/master/SEIR%20Model-Based%20Research%20on%20Diffusion%20of%20Internet%20Rumors/Figures/19.png?raw=true)"
   ]
  },
  {
   "cell_type": "markdown",
   "metadata": {},
   "source": [
    "上图较好的说明了节点度大小在传播过程中的作用，谣言影响的峰值比率随初始传播节点的度增大而增大，峰值时间随初始传播节点的度增大而提前。因此在社交网络谣言传播的控制中，需要特别关注这些具有较大度值的节点(意见领袖),通过其在传播网络中的较大影响力来作用于整个网络的节点。"
   ]
  },
  {
   "cell_type": "markdown",
   "metadata": {},
   "source": [
    "# 5.结论\n",
    "\n",
    "   本文基于原始的SEIR谣言传播模型，在考虑了节点的暂时性免疫和永久性免疫，以及谣言传播的热度衰减之后，对模型进行了合理的修改，得到新的传播动力学微分方程，并利用计算机仿真的方法对该动力学模型进行仿真研究。在仿真结果的度量中，我们主要采用了传谣者和潜伏者群体之和的比例作为衡量指标，以观察其在仿真过程中展现的峰值比率和峰值出现的时间，以及谣言影响持续的时间；在此基础上我们结合对各频率参数的敏感性分析，以及衰减速率v的分析，得到以下结论：\n",
    "   \n",
    "        1、概率p1与谣言传播的峰值比率成正相关，峰值时间呈负相关，两指标的敏感性随p1增大而降低。\n",
    "        2、在假设p2与p3具有对立性的条件下，概率p3与谣言传播的峰值比率呈负相关，峰值时间呈正相关，p2则相反；峰值比率对这一对概率的变化有较高的敏感性，但峰值时间对其不敏感。\n",
    "        3、概率p4与谣言传播的峰值比率呈正相关，峰值时间呈负相关，峰值比率对这一对概率的变化有较高的敏感性，但峰值时间对其不敏感。\n",
    "        4、在热度衰减速率恒定的情况下，谣言传播的峰值比率和峰值时间对其不敏感。\n",
    "        5、对于不同函数形式的衰减参数v,在同等值域范围内，峰值比率随着函数形式从常数级、对数级、幂函数级(幂次数由低到高)、指数级一次小幅度升高，峰值时间几乎不受影响。而谣言影响时间随着参数v由常数级到指数级会显著增长。\n",
    "   \n",
    "   采用动力学仿真之后，我们采用Facebook网络数据集作为底图，进行了含有网络拓扑结构的系统仿真，仿真结果与动力学仿真具有趋势一致性。进一步分析其中节点的度分布，以及在对以不同度大小节点为起始传播者的谣言传播仿真结果分析之后，我们得出在统计意义上，谣言传播中峰值比率随初始传播节点度增大而增大，峰值时间其而提前。\n",
    "   \n",
    "   以上结论对SNS网络中的谣言传播的模拟和预测和控制都具有一定意义，为相关问题的进一步研究提供了参考。"
   ]
  },
  {
   "cell_type": "markdown",
   "metadata": {},
   "source": [
    "# 6. 模型局限和改进方向\n",
    "\n",
    "# 6.1 模型局限\n",
    "\n",
    "  尽管该模型在原始的SEIR模型上进行了更贴合现实情况的优化，但是依然忽略了部分在谣言转播中产生重要影响的因素，此处将其中的部分列出：\n",
    "  \n",
    "      1、该系统所采用的动力学模型将网络中各节点高度颗粒化，忽略了节点的社会属性和心理属性。例如节点的人格特质，判断能力，与周围节点的亲密程度等等。\n",
    "      2、该模型没有考虑社交网络中的集群效应(clustering),而是对网络中的个体进行统一的处理，忽略了网络子社群之间的作用。\n",
    "      3、该模型中的参数设定中的p1,p2,p3,p4均为静态参数，而在现实中这些参数很有可能具有动态性，尤其是考虑了谣言的衰减效应后，以上的概率更有可能像p5一样，呈现动态变化的特征。\n",
    "      \n",
    "# 6.2 改进方向\n",
    "  \n",
    "  结合上述模型局限和研究的可行性，我们对今后的研究有如下一些方向性建议：\n",
    "  \n",
    "      1、结合谣言免疫的策略，以及本研究中提出的基于峰值比率和峰值时间的敏感性分析，在模型中引入其他的外生变量，使得模型更加完善。\n",
    "      2、对各频率参数进行动态处理，采用不同形式的函数进行试验，进一步分析各频率变化情况的谣言传播过程的影响。\n",
    "      3、在计算机仿真的基础上，进行更深入的数学分析，从函数性质上对动力学方程形式的模型进行演算，尝试获取一些具有解析性质的演算结果，以佐证仿真分析的相关性和合理性。"
   ]
  },
  {
   "cell_type": "markdown",
   "metadata": {},
   "source": [
    "# 【附录】\n",
    "\n",
    "# 参考文献\n",
    "\n",
    "    [1] 朱冠桦. 考虑从众现象的社交网络谣言传播研究. 南京邮电大学, 2015\n",
    "    [2] Hu H B，Wang X F. Phys. Lett，2009\n",
    "    [3] http://www.facebook.com\n",
    "    [4] Newman M E J，Forest S，Balthrop J. Phys.Rev，2002\n",
    "    [5] 倪顺江，翁文国，范维澄. 物理学，2009\n",
    "    [6] Moreno Y，Nekovee M，Phys. Rev，2004\n",
    "    [7] 张立，刘云. 物理学报，2008\n",
    "    [8] 丁艳艳. 基于SIS模型的高校应对学生扩散网络谣言的策略分析. 兰州教育学院学报，2016\n",
    "    [9] 苏国强, 兰月新. 基于SIR的突发事件网络谣言扩散模型研究. 武警学院基础部，2013\n",
    "    [10] 顾亦然, 夏玲玲. 在线社交网络中谣言的传播与抑制. 物理学报，2012\n",
    "    [11] 马知恩. 种群动力学与流行病动力学. 交通大学出版社，2000\n",
    "    [12] 马知恩，周义仓，王稳地等. 传染病动力学的数学建模与研究[M]. 科学出版社，2004\n",
    "    \n",
    "    \n",
    "    \n",
    "    \n",
    "    小组成员学号：\n",
    "    董雪     U201516077 \n",
    "    陈宇韬    U201516071\n",
    "    段洪晨    U201516091\n",
    "    伍岳韵    U201511029"
   ]
  }
 ],
 "metadata": {
  "kernelspec": {
   "display_name": "Python 3",
   "language": "python",
   "name": "python3"
  },
  "language_info": {
   "codemirror_mode": {
    "name": "ipython",
    "version": 3
   },
   "file_extension": ".py",
   "mimetype": "text/x-python",
   "name": "python",
   "nbconvert_exporter": "python",
   "pygments_lexer": "ipython3",
   "version": "3.6.5"
  }
 },
 "nbformat": 4,
 "nbformat_minor": 2
}
